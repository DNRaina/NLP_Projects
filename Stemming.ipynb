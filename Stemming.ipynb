{
 "cells": [
  {
   "cell_type": "code",
   "execution_count": 1,
   "id": "08d232b4-b4c6-4015-a773-71232a25c083",
   "metadata": {},
   "outputs": [],
   "source": [
    "corpus = \"\"\"Wolverton Viaduct is a railway bridge carrying the West Coast Main Line over the River Great Ouse to the north of Wolverton, part of Milton Keynes, in south-eastern England. Built in 1838 for the London and Birmingham Railway (L&BR) to the design of Robert Stephenson, it was the largest viaduct on the L&BR's route. It is in the centre of Wolverton Embankment, itself the largest on the line. It has six brick arches and covers a distance of 660 feet (200 metres), reaching a maximum height of 57 feet (17 metres) above the river, and terminating in substantial abutments which contain decorative arches. The viaduct and embankment feature in drawings by John Cooke Bourne. Several contemporary commentators likened Stephenson's bridges to Roman aqueducts. Some modern engineers and railway historians have suggested that Wolverton Viaduct is not as innovative or impressive as some that followed but nonetheless praised its visual impact.\n",
    "\n",
    "The cutting caught fire during construction and suffered from slips and settlement problems for several years. The viaduct was widened to take four tracks in the 1880s with a blue-brick extension, in contrast to the red-brick original; the new structure was not bonded to the original and the divide can be clearly seen from underneath. Masts for overhead electrification were added in the 1950s but otherwise the bridge is little changed since it was built. It has common features with several other L&BR viaducts and is now a Grade II listed building.\"\"\""
   ]
  },
  {
   "cell_type": "code",
   "execution_count": 22,
   "id": "ced70d0b-34d4-4f6f-b0b1-63ca1caf2f00",
   "metadata": {},
   "outputs": [],
   "source": [
    "from nltk.stem import SnowballStemmer\n",
    "import nltk\n",
    "from nltk.corpus import stopwords"
   ]
  },
  {
   "cell_type": "code",
   "execution_count": 24,
   "id": "86c2a7fe-0edc-47c0-a516-d74f35003b97",
   "metadata": {},
   "outputs": [],
   "source": [
    "stemmer = SnowballStemmer('english')"
   ]
  },
  {
   "cell_type": "code",
   "execution_count": 11,
   "id": "d2898a79-8b63-43f9-9aa6-668af65833d3",
   "metadata": {},
   "outputs": [],
   "source": [
    "sentences = nltk.sent_tokenize(corpus)"
   ]
  },
  {
   "cell_type": "code",
   "execution_count": 25,
   "id": "d088b5f1-3f34-4ebb-8042-e8d92c3a5fa8",
   "metadata": {},
   "outputs": [],
   "source": [
    "for i in range(len(sentences)):\n",
    "    words = []\n",
    "    for j in sentences[i]:\n",
    "        if j not in set(stopwords.words('english')):\n",
    "            words.append(stemmer.stem(j))\n",
    "    sentences[i] = \"\".join(words)"
   ]
  },
  {
   "cell_type": "code",
   "execution_count": 26,
   "id": "4af0d2c0-7848-4641-89ca-85db0a283e6b",
   "metadata": {},
   "outputs": [
    {
     "data": {
      "text/plain": [
       "'wlvern vuc   rlw brge crrng he we c n lne ver he rver gre ue  he nrh f wlvern, pr f ln kene, n uh-eern engln.'"
      ]
     },
     "execution_count": 26,
     "metadata": {},
     "output_type": "execute_result"
    }
   ],
   "source": [
    "sentences[0]"
   ]
  }
 ],
 "metadata": {
  "kernelspec": {
   "display_name": "Python 3 (ipykernel)",
   "language": "python",
   "name": "python3"
  },
  "language_info": {
   "codemirror_mode": {
    "name": "ipython",
    "version": 3
   },
   "file_extension": ".py",
   "mimetype": "text/x-python",
   "name": "python",
   "nbconvert_exporter": "python",
   "pygments_lexer": "ipython3",
   "version": "3.12.3"
  }
 },
 "nbformat": 4,
 "nbformat_minor": 5
}
