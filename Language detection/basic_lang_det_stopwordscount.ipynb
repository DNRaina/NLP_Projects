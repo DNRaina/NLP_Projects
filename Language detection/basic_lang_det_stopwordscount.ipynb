{
 "cells": [
  {
   "cell_type": "code",
   "execution_count": 2,
   "metadata": {},
   "outputs": [],
   "source": [
    "import nltk\n",
    "from nltk.corpus import stopwords\n",
    "from nltk import word_tokenize"
   ]
  },
  {
   "cell_type": "code",
   "execution_count": 5,
   "metadata": {},
   "outputs": [],
   "source": [
    "def lang_ratio(input):\n",
    "    freqdict = {}\n",
    "    words = word_tokenize(input)\n",
    "    words_set = set([word.lower() for word in words])\n",
    "\n",
    "    for language in stopwords.fileids():\n",
    "        stopwords_set = set(stopwords.words(language))\n",
    "        common_elem = words_set.intersection(stopwords_set)\n",
    "        freqdict[language] = len(common_elem)\n",
    "    \n",
    "    return freqdict\n"
   ]
  },
  {
   "cell_type": "code",
   "execution_count": null,
   "metadata": {},
   "outputs": [
    {
     "name": "stdout",
     "output_type": "stream",
     "text": [
      "english\n"
     ]
    }
   ],
   "source": [
    "eng_text = \"This is me and my friend\"\n",
    "dic = lang_ratio(eng_text)\n",
    "lang = max(dic, key = dic.get)\n",
    "print(lang)"
   ]
  },
  {
   "cell_type": "code",
   "execution_count": 20,
   "metadata": {},
   "outputs": [
    {
     "name": "stdout",
     "output_type": "stream",
     "text": [
      "{'arabic': 0, 'azerbaijani': 1, 'basque': 0, 'bengali': 0, 'catalan': 2, 'chinese': 0, 'danish': 1, 'dutch': 0, 'english': 0, 'finnish': 1, 'french': 3, 'german': 0, 'greek': 0, 'hebrew': 0, 'hinglish': 0, 'hungarian': 1, 'indonesian': 0, 'italian': 0, 'kazakh': 0, 'nepali': 0, 'norwegian': 1, 'portuguese': 0, 'romanian': 0, 'russian': 0, 'slovene': 0, 'spanish': 0, 'swedish': 0, 'tajik': 0, 'turkish': 0}\n",
      "french\n"
     ]
    }
   ],
   "source": [
    "fren_text = \"bonjour c'est moi et mon ami\"\n",
    "dic = lang_ratio(fren_text)\n",
    "print(dic)\n",
    "lang = max(dic, key = dic.get)\n",
    "print(lang)"
   ]
  },
  {
   "cell_type": "code",
   "execution_count": 21,
   "metadata": {},
   "outputs": [
    {
     "name": "stdout",
     "output_type": "stream",
     "text": [
      "{'arabic': 0, 'azerbaijani': 0, 'basque': 0, 'bengali': 0, 'catalan': 0, 'chinese': 0, 'danish': 0, 'dutch': 0, 'english': 0, 'finnish': 0, 'french': 0, 'german': 0, 'greek': 0, 'hebrew': 0, 'hinglish': 0, 'hungarian': 0, 'indonesian': 0, 'italian': 0, 'kazakh': 0, 'nepali': 1, 'norwegian': 0, 'portuguese': 0, 'romanian': 0, 'russian': 0, 'slovene': 0, 'spanish': 0, 'swedish': 0, 'tajik': 0, 'turkish': 0}\n",
      "nepali\n"
     ]
    }
   ],
   "source": [
    "devnagri_text = \"यहाँ कुछ गलत है\"\n",
    "dic = lang_ratio(devnagri_text)\n",
    "print(dic)\n",
    "lang = max(dic, key = dic.get)\n",
    "print(lang)\n"
   ]
  }
 ],
 "metadata": {
  "kernelspec": {
   "display_name": "Python 3",
   "language": "python",
   "name": "python3"
  },
  "language_info": {
   "codemirror_mode": {
    "name": "ipython",
    "version": 3
   },
   "file_extension": ".py",
   "mimetype": "text/x-python",
   "name": "python",
   "nbconvert_exporter": "python",
   "pygments_lexer": "ipython3",
   "version": "3.12.7"
  }
 },
 "nbformat": 4,
 "nbformat_minor": 2
}
